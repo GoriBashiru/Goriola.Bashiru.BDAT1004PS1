{
 "cells": [
  {
   "cell_type": "markdown",
   "id": "84ee2b0e",
   "metadata": {},
   "source": [
    "### Question 1"
   ]
  },
  {
   "cell_type": "markdown",
   "id": "6ceeef1f",
   "metadata": {},
   "source": [
    "5          ==============================> Integer\n",
    "5.0        ==============================> Float\n",
    "5 > 1      ==============================> Booleaen Expression(True)\n",
    "'5'        ==============================> String\n",
    "5 * 2      ==============================> Integer (Algebraic Expression)\n",
    "'5' * 2    ==============================> Concantenation of a String 2ce\n",
    "'5' + '2'  ==============================> Concantenation  of 2 different strings \n",
    "5 / 2      ==============================> Algrebraic\n",
    "5 % 2      ==============================> Float ( Algebraic Expression)\n",
    "{5, 2, 1}  ==============================> Set\n",
    "5 == 3     ==============================> Boolean (False)\n",
    "Pi (the number) ==============================> Float\n"
   ]
  },
  {
   "cell_type": "markdown",
   "id": "2a523f60",
   "metadata": {},
   "source": [
    "### Question 2"
   ]
  },
  {
   "cell_type": "code",
   "execution_count": 127,
   "id": "0a958351",
   "metadata": {},
   "outputs": [
    {
     "name": "stdout",
     "output_type": "stream",
     "text": [
      "34\n",
      "True\n",
      "Supercalifragilisticexpialidocious\n",
      "Bartok Buxtehude\n"
     ]
    }
   ],
   "source": [
    "t ='Supercalifragilisticexpialidocious'\n",
    "w = ['Supercalifragilisticexpialidocious', 'Honorificabilitudinitatibus', 'Bababadalgharaghtakamminarronnkonn']\n",
    "c= ['Berlioz', 'Borodin', 'Brian','Bartok', 'Bellini', 'Buxtehude', 'Bernstein']\n",
    "\n",
    "print (len(t))\n",
    "print('ice' in t)\n",
    "\n",
    "print(max(w))\n",
    "\n",
    "print((min(c)),(max(c)))\n"
   ]
  },
  {
   "cell_type": "markdown",
   "id": "6c3bc05f",
   "metadata": {},
   "source": [
    "### Question3"
   ]
  },
  {
   "cell_type": "code",
   "execution_count": 124,
   "id": "04bb9a3e",
   "metadata": {},
   "outputs": [
    {
     "name": "stdout",
     "output_type": "stream",
     "text": [
      "1.7320508075688772\n"
     ]
    }
   ],
   "source": [
    "a = 2\n",
    "b = 2\n",
    "c = 2\n",
    "\n",
    "\n",
    "def triangleArea(a, b, c):\n",
    "    s = (a+b+c)/2\n",
    "    area = ((s*(s - a)*(s - b)*(s - c)))**0.5\n",
    "    return area \n",
    "\n",
    "result = triangleArea(a, b, c)\n",
    "print(result)\n"
   ]
  },
  {
   "cell_type": "markdown",
   "id": "a49f8b25",
   "metadata": {},
   "source": [
    "### Question4"
   ]
  },
  {
   "cell_type": "code",
   "execution_count": 114,
   "id": "e0990e40",
   "metadata": {},
   "outputs": [
    {
     "name": "stdout",
     "output_type": "stream",
     "text": [
      "Input the number of elements to be stored in the array: 5\n",
      "Odd numbers: [25, 47]\n",
      "Even numbers: [42, 56, 32]\n"
     ]
    }
   ],
   "source": [
    "#Question 4\n",
    "\n",
    "n = int(input(\"Input the number of elements to be stored in the array: \"))\n",
    "\n",
    "elements = [25, 47, 42, 56, 32]\n",
    "def odd_or_even(elements):\n",
    "    odd_numbers = []\n",
    "    even_numbers = []\n",
    "\n",
    "    for num in elements:\n",
    "        if num % 2 == 0:\n",
    "            even_numbers.append(num)\n",
    "        else:\n",
    "            odd_numbers.append(num)\n",
    "\n",
    "    return odd_numbers, even_numbers\n",
    "\n",
    "# Example usage:\n",
    "odd, even = odd_or_even(numbers)\n",
    "\n",
    "print(\"Odd numbers:\", odd)\n",
    "print(\"Even numbers:\", even)\n",
    "\n",
    "\n"
   ]
  },
  {
   "cell_type": "markdown",
   "id": "401a78db",
   "metadata": {},
   "source": [
    "### Question5"
   ]
  },
  {
   "cell_type": "code",
   "execution_count": 52,
   "id": "64657028",
   "metadata": {},
   "outputs": [
    {
     "name": "stdout",
     "output_type": "stream",
     "text": [
      "True\n",
      "False\n",
      "The point (1, 1) does not lie in both rectangles.\n"
     ]
    }
   ],
   "source": [
    "def inside(x, y, x1, y1, x2, y2):\n",
    "    if x1 <= x <= x2 and y1 <= y <= y2:\n",
    "        return True\n",
    "    else:\n",
    "        return False\n",
    "\n",
    "print(inside(1,1,0,0,2,3))\n",
    "print(inside(-1,-1,0,0,2,3))\n",
    "\n",
    "#(b)\n",
    "if inside(1, 1, 0.3, 0.5, 1.1, 0.7) and inside(1, 1, 0.5, 0.2, 1.1, 2):\n",
    "    print(\"The point (1, 1) lies in both rectangles.\")\n",
    "else:\n",
    "    print(\"The point (1, 1) does not lie in both rectangles.\")\n",
    "\n",
    "\n"
   ]
  },
  {
   "cell_type": "markdown",
   "id": "52d17e72",
   "metadata": {},
   "source": [
    "### Question 6\n"
   ]
  },
  {
   "cell_type": "code",
   "execution_count": 139,
   "id": "e820e956",
   "metadata": {
    "scrolled": true
   },
   "outputs": [
    {
     "name": "stdout",
     "output_type": "stream",
     "text": [
      "Enter a word: ifem\n",
      "ifemay\n"
     ]
    }
   ],
   "source": [
    "def pig(word):\n",
    "    \n",
    "    word = word.lower()\n",
    "    vowel = ['a', 'e', 'i', 'o', 'u']\n",
    "\n",
    "    if word[0] in vowel:\n",
    "        return word + 'ay'\n",
    "    else:\n",
    "        return word[1:] + word[0] + 'ay'\n",
    "    \n",
    "Pig_latin = input(\"Enter a word: \")\n",
    "print(pig(Pig_latin)) "
   ]
  },
  {
   "cell_type": "markdown",
   "id": "1565b7be",
   "metadata": {},
   "source": [
    "### Question 7"
   ]
  },
  {
   "cell_type": "code",
   "execution_count": 137,
   "id": "ae1f5336",
   "metadata": {},
   "outputs": [
    {
     "name": "stdout",
     "output_type": "stream",
     "text": [
      "There are 15 patients of blood type A.\n",
      "There is one patient of blood type B.\n",
      "There are 13 patients of blood type AB.\n",
      "There are 15 patients of blood type O.\n",
      "There are no patients of blood type OO.\n"
     ]
    }
   ],
   "source": [
    "def bldcount(name):\n",
    "    infile =  open(name, 'r')\n",
    "    blood_types = infile.read().split()\n",
    "    types = ['A', 'B', 'AB', 'O', 'OO']\n",
    "    for blood_type in types:\n",
    "        count = blood_types.count(blood_type)\n",
    "        if count == 0:\n",
    "            print(f\"There are no patients of blood type {blood_type}.\")\n",
    "        elif count == 1:\n",
    "            print(f\"There is one patient of blood type {blood_type}.\")\n",
    "        else:\n",
    "            print(f\"There are {count} patients of blood type {blood_type}.\")\n",
    "    infile.close()\n",
    "\n",
    "\n",
    "bldcount('bloodtype1.txt')\n"
   ]
  },
  {
   "cell_type": "markdown",
   "id": "19cbd21d",
   "metadata": {},
   "source": [
    "### Question 8"
   ]
  },
  {
   "cell_type": "code",
   "execution_count": 130,
   "id": "1fc6a44f",
   "metadata": {},
   "outputs": [
    {
     "name": "stdout",
     "output_type": "stream",
     "text": [
      "1.241401\n"
     ]
    }
   ],
   "source": [
    "def curconv(currency, amount):\n",
    "    infile = open('currencies.txt', 'r')\n",
    "    lines = infile.readlines()\n",
    "    currency_dict = {}\n",
    "    for line in lines:\n",
    "        split_line = line.split()\n",
    "        currency_dict[split_line[0]] = float(split_line[1])\n",
    "    infile.close()\n",
    "    if currency in currency_dict:\n",
    "        return amount * currency_dict[currency]\n",
    "    else:\n",
    "        return \"Currency not available.\"\n",
    "        \n",
    "print(curconv('JPY', 100))\n"
   ]
  },
  {
   "cell_type": "markdown",
   "id": "6120d329",
   "metadata": {},
   "source": [
    "### Question 9"
   ]
  },
  {
   "cell_type": "markdown",
   "id": "5ba93dfd",
   "metadata": {},
   "source": [
    "Answers\n",
    "\n",
    "a =========> TypeError \n",
    "b =========> IndexError\n",
    "c =========> ValueError \n",
    "d =========> NameError\n",
    "e =========> FileNotFoundError \n"
   ]
  },
  {
   "cell_type": "markdown",
   "id": "217aa8cd",
   "metadata": {},
   "source": [
    "## Question 10"
   ]
  },
  {
   "cell_type": "code",
   "execution_count": 79,
   "id": "4c1925e1",
   "metadata": {},
   "outputs": [
    {
     "name": "stdout",
     "output_type": "stream",
     "text": [
      "[1, 1, 1, 3, 5, 1, 1, 2, 1, 0, 1, 0, 1, 2, 4, 0, 1, 2, 0, 2, 1, 0, 1, 1, 0, 0]\n",
      "[1, 0, 0, 0, 1, 0, 0, 0, 0, 0, 0, 1, 0, 0, 0, 2, 0, 0, 0, 0, 0, 0, 0, 0, 0, 0]\n"
     ]
    }
   ],
   "source": [
    "\n",
    "def frequencies(text):\n",
    "    letters = 'abcdefghijklmnopqrstuvwxyz'\n",
    "    freq = []\n",
    "    \n",
    "    for letter in letters:\n",
    "       \n",
    "        count = text.count(letter)\n",
    "    \n",
    "        freq.append(count)\n",
    "   \n",
    "\n",
    "    return freq\n",
    "\n",
    "print(frequencies('The quick red fox got bored and went home.'))\n",
    "print(frequencies('apple'))\n"
   ]
  }
 ],
 "metadata": {
  "kernelspec": {
   "display_name": "Python 3 (ipykernel)",
   "language": "python",
   "name": "python3"
  },
  "language_info": {
   "codemirror_mode": {
    "name": "ipython",
    "version": 3
   },
   "file_extension": ".py",
   "mimetype": "text/x-python",
   "name": "python",
   "nbconvert_exporter": "python",
   "pygments_lexer": "ipython3",
   "version": "3.11.5"
  }
 },
 "nbformat": 4,
 "nbformat_minor": 5
}
